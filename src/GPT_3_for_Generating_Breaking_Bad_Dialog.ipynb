{
  "cells": [
    {
      "cell_type": "markdown",
      "metadata": {
        "id": "aKX9FdiQb7hn"
      },
      "source": [
        "OpenAI’s API gives practitioners access to GPT-3, an incredibly powerful natural language model that can be applied to virtually any task that involves understanding or generating natural language.\n",
        "\n",
        "If you use OpenAI's API to [fine-tune GPT-3](https://beta.openai.com/docs/guides/fine-tuning), you can now use the W&B integration to track experiments, models, and datasets in your central dashboard.\n",
        "\n",
        "All it takes is one line: `openai wandb sync`"
      ]
    },
    {
      "cell_type": "markdown",
      "metadata": {
        "id": "hTTHCuNUb7ho"
      },
      "source": [
        "## Set up your API key"
      ]
    },
    {
      "cell_type": "code",
      "execution_count": 19,
      "metadata": {
        "id": "lOKPAI1Ob7hp",
        "outputId": "757c8a9e-d946-4848-a25f-b4c969971153",
        "colab": {
          "base_uri": "https://localhost:8080/"
        }
      },
      "outputs": [
        {
          "output_type": "stream",
          "name": "stdout",
          "text": [
            "env: =\"NA\"\n"
          ]
        }
      ],
      "source": [
        "# Enter credentials\n",
        "%env = \"NA\""
      ]
    },
    {
      "cell_type": "markdown",
      "metadata": {
        "id": "aO_WaG7fb7hq"
      },
      "source": [
        "**WARNING: Remove the API key after running the cell and clear output so it does not get logged to wandb in case you sync code (see settings)**"
      ]
    },
    {
      "cell_type": "markdown",
      "metadata": {
        "id": "eTmMqnE9b7hr"
      },
      "source": [
        "## Install dependencies"
      ]
    },
    {
      "cell_type": "code",
      "execution_count": null,
      "metadata": {
        "id": "JMySrXy4b7hr",
        "colab": {
          "base_uri": "https://localhost:8080/"
        },
        "outputId": "0765d04a-4cce-4390-d073-2916301c6af2"
      },
      "outputs": [
        {
          "output_type": "stream",
          "name": "stdout",
          "text": [
            "\u001b[?25l\r\u001b[K     |███████▎                        | 10 kB 16.6 MB/s eta 0:00:01\r\u001b[K     |██████████████▋                 | 20 kB 14.4 MB/s eta 0:00:01\r\u001b[K     |██████████████████████          | 30 kB 7.7 MB/s eta 0:00:01\r\u001b[K     |█████████████████████████████▏  | 40 kB 4.9 MB/s eta 0:00:01\r\u001b[K     |████████████████████████████████| 44 kB 1.1 MB/s \n",
            "\u001b[?25h  Installing build dependencies ... \u001b[?25l\u001b[?25hdone\n",
            "  Getting requirements to build wheel ... \u001b[?25l\u001b[?25hdone\n",
            "    Preparing wheel metadata ... \u001b[?25l\u001b[?25hdone\n",
            "\u001b[K     |████████████████████████████████| 1.9 MB 9.7 MB/s \n",
            "\u001b[K     |████████████████████████████████| 146 kB 49.8 MB/s \n",
            "\u001b[K     |████████████████████████████████| 182 kB 43.2 MB/s \n",
            "\u001b[K     |████████████████████████████████| 168 kB 32.7 MB/s \n",
            "\u001b[K     |████████████████████████████████| 62 kB 583 kB/s \n",
            "\u001b[K     |████████████████████████████████| 168 kB 48.5 MB/s \n",
            "\u001b[K     |████████████████████████████████| 166 kB 42.8 MB/s \n",
            "\u001b[K     |████████████████████████████████| 166 kB 52.8 MB/s \n",
            "\u001b[K     |████████████████████████████████| 162 kB 34.0 MB/s \n",
            "\u001b[K     |████████████████████████████████| 162 kB 33.9 MB/s \n",
            "\u001b[K     |████████████████████████████████| 158 kB 75.2 MB/s \n",
            "\u001b[K     |████████████████████████████████| 157 kB 39.5 MB/s \n",
            "\u001b[K     |████████████████████████████████| 157 kB 40.1 MB/s \n",
            "\u001b[K     |████████████████████████████████| 157 kB 46.4 MB/s \n",
            "\u001b[K     |████████████████████████████████| 157 kB 52.3 MB/s \n",
            "\u001b[K     |████████████████████████████████| 157 kB 47.9 MB/s \n",
            "\u001b[K     |████████████████████████████████| 157 kB 52.6 MB/s \n",
            "\u001b[K     |████████████████████████████████| 157 kB 52.6 MB/s \n",
            "\u001b[K     |████████████████████████████████| 156 kB 37.1 MB/s \n",
            "\u001b[?25h  Building wheel for openai (PEP 517) ... \u001b[?25l\u001b[?25hdone\n",
            "  Building wheel for pathtools (setup.py) ... \u001b[?25l\u001b[?25hdone\n"
          ]
        }
      ],
      "source": [
        "!pip install -Uq openai wandb"
      ]
    },
    {
      "cell_type": "code",
      "execution_count": null,
      "metadata": {
        "id": "qCBl30uhb7hr"
      },
      "outputs": [],
      "source": [
        "import openai\n",
        "import wandb\n",
        "from pathlib import Path\n",
        "import pandas as pd\n",
        "import numpy as np\n",
        "import json\n",
        "from tqdm import tqdm"
      ]
    },
    {
      "cell_type": "code",
      "execution_count": null,
      "metadata": {
        "id": "xWqogKilb7hs",
        "outputId": "49a55770-4f55-4ca8-af6a-1419b2c05fa1",
        "colab": {
          "base_uri": "https://localhost:8080/",
          "height": 237,
          "referenced_widgets": [
            "cea15289f19c4dbea77de22e829da48f",
            "636ea0b25da0464ba3cccba487519ab3",
            "2c6f57ddadc849b6aff65c7b41ced396",
            "4f6f48066d2c4933a105c6827127f0ad",
            "5a1eda23c449472297f6284b83458577",
            "34a30c9f5e014e5e9702a9faf1907cd0",
            "f73369625dfc44a6a0098293a97d8d90",
            "c4fa0335d92848febbae895653a0b715"
          ]
        }
      },
      "outputs": [
        {
          "output_type": "display_data",
          "data": {
            "text/plain": [
              "<IPython.core.display.HTML object>"
            ],
            "text/html": [
              "Finishing last run (ID:1vhb3p1v) before initializing another..."
            ]
          },
          "metadata": {}
        },
        {
          "output_type": "display_data",
          "data": {
            "text/plain": [
              "<IPython.core.display.HTML object>"
            ],
            "text/html": [
              "Waiting for W&B process to finish... <strong style=\"color:green\">(success).</strong>"
            ]
          },
          "metadata": {}
        },
        {
          "output_type": "display_data",
          "data": {
            "text/plain": [
              "VBox(children=(Label(value='0.001 MB of 0.001 MB uploaded (0.000 MB deduped)\\r'), FloatProgress(value=1.0, max…"
            ],
            "application/vnd.jupyter.widget-view+json": {
              "version_major": 2,
              "version_minor": 0,
              "model_id": "cea15289f19c4dbea77de22e829da48f"
            }
          },
          "metadata": {}
        },
        {
          "output_type": "display_data",
          "data": {
            "text/plain": [
              "<IPython.core.display.HTML object>"
            ],
            "text/html": [
              "Synced <strong style=\"color:#cdcd00\">effortless-frost-9</strong>: <a href=\"https://wandb.ai/jareyna/GPT%203%20for%20Generating%20Breaking%20Bad%20Dialog/runs/1vhb3p1v\" target=\"_blank\">https://wandb.ai/jareyna/GPT%203%20for%20Generating%20Breaking%20Bad%20Dialog/runs/1vhb3p1v</a><br/>Synced 5 W&B file(s), 0 media file(s), 0 artifact file(s) and 0 other file(s)"
            ]
          },
          "metadata": {}
        },
        {
          "output_type": "display_data",
          "data": {
            "text/plain": [
              "<IPython.core.display.HTML object>"
            ],
            "text/html": [
              "Find logs at: <code>./wandb/run-20221117_050616-1vhb3p1v/logs</code>"
            ]
          },
          "metadata": {}
        },
        {
          "output_type": "display_data",
          "data": {
            "text/plain": [
              "<IPython.core.display.HTML object>"
            ],
            "text/html": [
              "Successfully finished last run (ID:1vhb3p1v). Initializing new run:<br/>"
            ]
          },
          "metadata": {}
        },
        {
          "output_type": "display_data",
          "data": {
            "text/plain": [
              "<IPython.core.display.HTML object>"
            ],
            "text/html": [
              "Tracking run with wandb version 0.13.5"
            ]
          },
          "metadata": {}
        },
        {
          "output_type": "display_data",
          "data": {
            "text/plain": [
              "<IPython.core.display.HTML object>"
            ],
            "text/html": [
              "Run data is saved locally in <code>/content/wandb/run-20221117_053658-3j4ja1f1</code>"
            ]
          },
          "metadata": {}
        },
        {
          "output_type": "display_data",
          "data": {
            "text/plain": [
              "<IPython.core.display.HTML object>"
            ],
            "text/html": [
              "Syncing run <strong><a href=\"https://wandb.ai/jareyna/GPT%203%20for%20Generating%20Breaking%20Bad%20Dialog/runs/3j4ja1f1\" target=\"_blank\">honest-river-10</a></strong> to <a href=\"https://wandb.ai/jareyna/GPT%203%20for%20Generating%20Breaking%20Bad%20Dialog\" target=\"_blank\">Weights & Biases</a> (<a href=\"https://wandb.me/run\" target=\"_blank\">docs</a>)<br/>"
            ]
          },
          "metadata": {}
        }
      ],
      "source": [
        "run = wandb.init(project='GPT 3 for Generating Breaking Bad Dialog', job_type=\"dataset_preparation\")"
      ]
    },
    {
      "cell_type": "markdown",
      "metadata": {
        "id": "kSMgnf55b7ht"
      },
      "source": [
        "Using Weights & Biases Artifacts to Download a .CSV dataset file with episode title > synopsis pairs"
      ]
    },
    {
      "cell_type": "code",
      "execution_count": null,
      "metadata": {
        "id": "vSmzML9cb7ht",
        "outputId": "e0e1eba6-ba60-473b-8fc7-d1f1bb8f89fb",
        "colab": {
          "base_uri": "https://localhost:8080/",
          "height": 191
        }
      },
      "outputs": [
        {
          "output_type": "display_data",
          "data": {
            "text/plain": [
              "<IPython.core.display.HTML object>"
            ],
            "text/html": [
              "Finishing last run (ID:1w0agzcg) before initializing another..."
            ]
          },
          "metadata": {}
        },
        {
          "output_type": "display_data",
          "data": {
            "text/plain": [
              "<IPython.core.display.HTML object>"
            ],
            "text/html": [
              "Waiting for W&B process to finish... <strong style=\"color:green\">(success).</strong>"
            ]
          },
          "metadata": {}
        },
        {
          "output_type": "display_data",
          "data": {
            "text/plain": [
              "<IPython.core.display.HTML object>"
            ],
            "text/html": [
              "Synced <strong style=\"color:#cdcd00\">laced-grass-11</strong>: <a href=\"https://wandb.ai/jareyna/GPT%203%20for%20Generating%20Breaking%20Bad%20Dialog/runs/1w0agzcg\" target=\"_blank\">https://wandb.ai/jareyna/GPT%203%20for%20Generating%20Breaking%20Bad%20Dialog/runs/1w0agzcg</a><br/>Synced 4 W&B file(s), 0 media file(s), 0 artifact file(s) and 0 other file(s)"
            ]
          },
          "metadata": {}
        },
        {
          "output_type": "display_data",
          "data": {
            "text/plain": [
              "<IPython.core.display.HTML object>"
            ],
            "text/html": [
              "Find logs at: <code>./wandb/run-20221117_055459-1w0agzcg/logs</code>"
            ]
          },
          "metadata": {}
        },
        {
          "output_type": "display_data",
          "data": {
            "text/plain": [
              "<IPython.core.display.HTML object>"
            ],
            "text/html": [
              "Successfully finished last run (ID:1w0agzcg). Initializing new run:<br/>"
            ]
          },
          "metadata": {}
        },
        {
          "output_type": "display_data",
          "data": {
            "text/plain": [
              "<IPython.core.display.HTML object>"
            ],
            "text/html": [
              "Tracking run with wandb version 0.13.5"
            ]
          },
          "metadata": {}
        },
        {
          "output_type": "display_data",
          "data": {
            "text/plain": [
              "<IPython.core.display.HTML object>"
            ],
            "text/html": [
              "Run data is saved locally in <code>/content/wandb/run-20221117_055610-2bc8efdb</code>"
            ]
          },
          "metadata": {}
        },
        {
          "output_type": "display_data",
          "data": {
            "text/plain": [
              "<IPython.core.display.HTML object>"
            ],
            "text/html": [
              "Syncing run <strong><a href=\"https://wandb.ai/jareyna/GPT%203%20for%20Generating%20Breaking%20Bad%20Dialog/runs/2bc8efdb\" target=\"_blank\">distinctive-leaf-12</a></strong> to <a href=\"https://wandb.ai/jareyna/GPT%203%20for%20Generating%20Breaking%20Bad%20Dialog\" target=\"_blank\">Weights & Biases</a> (<a href=\"https://wandb.me/run\" target=\"_blank\">docs</a>)<br/>"
            ]
          },
          "metadata": {}
        },
        {
          "output_type": "stream",
          "name": "stderr",
          "text": [
            "\u001b[34m\u001b[1mwandb\u001b[0m:   1 of 1 files downloaded.  \n"
          ]
        }
      ],
      "source": [
        "run = wandb.init(project='GPT 3 for Generating Breaking Bad Dialog')\n",
        "artifact = run.use_artifact('ivangoncharov/GPT-3 to Generate Doctor Who Synopses/dw_synopses_csv:v0', type='raw_dataset')\n",
        "artifact.download()"
      ]
    },
    {
      "cell_type": "code",
      "source": [
        "artifact_dir =\"./artifacts/BreakingCSV.csv\""
      ],
      "metadata": {
        "id": "ZBWWs7RQK-LO"
      },
      "execution_count": null,
      "outputs": []
    },
    {
      "cell_type": "code",
      "execution_count": null,
      "metadata": {
        "id": "5-4q6rd7b7ht",
        "outputId": "52ec0dd1-eb59-4af8-d7b6-0bc581cdfebb",
        "colab": {
          "referenced_widgets": [
            "d8e578dad5624977805aa8e774599e68",
            "05c4a153a97744b994211a4ee24aa73e",
            "41e89ad3510948f5b0a2c15dd38499c2",
            "4e1d540d13e946cf84687178fb92a7a7",
            "af7c9405f95849f3bb5f2dc5b5a6931d",
            "6d201f7c86594ed2899419b3adafcddf",
            "904209d2b6914a33820a5b6ee9ccd77b",
            "42079243e70a4109ac321a69362e4947"
          ],
          "base_uri": "https://localhost:8080/",
          "height": 426
        }
      },
      "outputs": [
        {
          "output_type": "display_data",
          "data": {
            "text/plain": [
              "<IPython.core.display.HTML object>"
            ],
            "text/html": [
              "Finishing last run (ID:2bc8efdb) before initializing another..."
            ]
          },
          "metadata": {}
        },
        {
          "output_type": "display_data",
          "data": {
            "text/plain": [
              "<IPython.core.display.HTML object>"
            ],
            "text/html": [
              "Waiting for W&B process to finish... <strong style=\"color:green\">(success).</strong>"
            ]
          },
          "metadata": {}
        },
        {
          "output_type": "display_data",
          "data": {
            "text/plain": [
              "VBox(children=(Label(value='0.001 MB of 0.001 MB uploaded (0.000 MB deduped)\\r'), FloatProgress(value=1.0, max…"
            ],
            "application/vnd.jupyter.widget-view+json": {
              "version_major": 2,
              "version_minor": 0,
              "model_id": "d8e578dad5624977805aa8e774599e68"
            }
          },
          "metadata": {}
        },
        {
          "output_type": "display_data",
          "data": {
            "text/plain": [
              "<IPython.core.display.HTML object>"
            ],
            "text/html": [
              "Synced <strong style=\"color:#cdcd00\">distinctive-leaf-12</strong>: <a href=\"https://wandb.ai/jareyna/GPT%203%20for%20Generating%20Breaking%20Bad%20Dialog/runs/2bc8efdb\" target=\"_blank\">https://wandb.ai/jareyna/GPT%203%20for%20Generating%20Breaking%20Bad%20Dialog/runs/2bc8efdb</a><br/>Synced 5 W&B file(s), 0 media file(s), 0 artifact file(s) and 0 other file(s)"
            ]
          },
          "metadata": {}
        },
        {
          "output_type": "display_data",
          "data": {
            "text/plain": [
              "<IPython.core.display.HTML object>"
            ],
            "text/html": [
              "Find logs at: <code>./wandb/run-20221117_055610-2bc8efdb/logs</code>"
            ]
          },
          "metadata": {}
        },
        {
          "output_type": "display_data",
          "data": {
            "text/plain": [
              "<IPython.core.display.HTML object>"
            ],
            "text/html": [
              "Successfully finished last run (ID:2bc8efdb). Initializing new run:<br/>"
            ]
          },
          "metadata": {}
        },
        {
          "output_type": "display_data",
          "data": {
            "text/plain": [
              "<IPython.core.display.HTML object>"
            ],
            "text/html": [
              "Tracking run with wandb version 0.13.5"
            ]
          },
          "metadata": {}
        },
        {
          "output_type": "display_data",
          "data": {
            "text/plain": [
              "<IPython.core.display.HTML object>"
            ],
            "text/html": [
              "Run data is saved locally in <code>/content/wandb/run-20221117_055946-8awj5530</code>"
            ]
          },
          "metadata": {}
        },
        {
          "output_type": "display_data",
          "data": {
            "text/plain": [
              "<IPython.core.display.HTML object>"
            ],
            "text/html": [
              "Syncing run <strong><a href=\"https://wandb.ai/jareyna/GPT%203%20for%20Generating%20Breaking%20Bad%20Dialog/runs/8awj5530\" target=\"_blank\">young-firefly-13</a></strong> to <a href=\"https://wandb.ai/jareyna/GPT%203%20for%20Generating%20Breaking%20Bad%20Dialog\" target=\"_blank\">Weights & Biases</a> (<a href=\"https://wandb.me/run\" target=\"_blank\">docs</a>)<br/>"
            ]
          },
          "metadata": {}
        },
        {
          "output_type": "execute_result",
          "data": {
            "text/plain": [
              "                                                 prompt  \\\n",
              "6638                   I mean, that's the game here. ->   \n",
              "7975  What? Please tell me that's not what I think i...   \n",
              "5915  I'm very anxious to find out what this is all ...   \n",
              "8050  And I'm telling you these days, chances of get...   \n",
              "5894   My wife and I are thinking about having kids. ->   \n",
              "\n",
              "                                             completion  \n",
              "6638  You gotta have your family packed and ready to...  \n",
              "7975  Has anything like this ever happened before? N...  \n",
              "5915  Sir, your fingerprints were found at a crime s...  \n",
              "8050                             It's like Bigfoot. END  \n",
              "5894  Walk into a doctor's office, and suddenly, boo...  "
            ],
            "text/html": [
              "\n",
              "  <div id=\"df-ea284246-691d-47b2-80a6-3ab0cabec030\">\n",
              "    <div class=\"colab-df-container\">\n",
              "      <div>\n",
              "<style scoped>\n",
              "    .dataframe tbody tr th:only-of-type {\n",
              "        vertical-align: middle;\n",
              "    }\n",
              "\n",
              "    .dataframe tbody tr th {\n",
              "        vertical-align: top;\n",
              "    }\n",
              "\n",
              "    .dataframe thead th {\n",
              "        text-align: right;\n",
              "    }\n",
              "</style>\n",
              "<table border=\"1\" class=\"dataframe\">\n",
              "  <thead>\n",
              "    <tr style=\"text-align: right;\">\n",
              "      <th></th>\n",
              "      <th>prompt</th>\n",
              "      <th>completion</th>\n",
              "    </tr>\n",
              "  </thead>\n",
              "  <tbody>\n",
              "    <tr>\n",
              "      <th>6638</th>\n",
              "      <td>I mean, that's the game here. -&gt;</td>\n",
              "      <td>You gotta have your family packed and ready to...</td>\n",
              "    </tr>\n",
              "    <tr>\n",
              "      <th>7975</th>\n",
              "      <td>What? Please tell me that's not what I think i...</td>\n",
              "      <td>Has anything like this ever happened before? N...</td>\n",
              "    </tr>\n",
              "    <tr>\n",
              "      <th>5915</th>\n",
              "      <td>I'm very anxious to find out what this is all ...</td>\n",
              "      <td>Sir, your fingerprints were found at a crime s...</td>\n",
              "    </tr>\n",
              "    <tr>\n",
              "      <th>8050</th>\n",
              "      <td>And I'm telling you these days, chances of get...</td>\n",
              "      <td>It's like Bigfoot. END</td>\n",
              "    </tr>\n",
              "    <tr>\n",
              "      <th>5894</th>\n",
              "      <td>My wife and I are thinking about having kids. -&gt;</td>\n",
              "      <td>Walk into a doctor's office, and suddenly, boo...</td>\n",
              "    </tr>\n",
              "  </tbody>\n",
              "</table>\n",
              "</div>\n",
              "      <button class=\"colab-df-convert\" onclick=\"convertToInteractive('df-ea284246-691d-47b2-80a6-3ab0cabec030')\"\n",
              "              title=\"Convert this dataframe to an interactive table.\"\n",
              "              style=\"display:none;\">\n",
              "        \n",
              "  <svg xmlns=\"http://www.w3.org/2000/svg\" height=\"24px\"viewBox=\"0 0 24 24\"\n",
              "       width=\"24px\">\n",
              "    <path d=\"M0 0h24v24H0V0z\" fill=\"none\"/>\n",
              "    <path d=\"M18.56 5.44l.94 2.06.94-2.06 2.06-.94-2.06-.94-.94-2.06-.94 2.06-2.06.94zm-11 1L8.5 8.5l.94-2.06 2.06-.94-2.06-.94L8.5 2.5l-.94 2.06-2.06.94zm10 10l.94 2.06.94-2.06 2.06-.94-2.06-.94-.94-2.06-.94 2.06-2.06.94z\"/><path d=\"M17.41 7.96l-1.37-1.37c-.4-.4-.92-.59-1.43-.59-.52 0-1.04.2-1.43.59L10.3 9.45l-7.72 7.72c-.78.78-.78 2.05 0 2.83L4 21.41c.39.39.9.59 1.41.59.51 0 1.02-.2 1.41-.59l7.78-7.78 2.81-2.81c.8-.78.8-2.07 0-2.86zM5.41 20L4 18.59l7.72-7.72 1.47 1.35L5.41 20z\"/>\n",
              "  </svg>\n",
              "      </button>\n",
              "      \n",
              "  <style>\n",
              "    .colab-df-container {\n",
              "      display:flex;\n",
              "      flex-wrap:wrap;\n",
              "      gap: 12px;\n",
              "    }\n",
              "\n",
              "    .colab-df-convert {\n",
              "      background-color: #E8F0FE;\n",
              "      border: none;\n",
              "      border-radius: 50%;\n",
              "      cursor: pointer;\n",
              "      display: none;\n",
              "      fill: #1967D2;\n",
              "      height: 32px;\n",
              "      padding: 0 0 0 0;\n",
              "      width: 32px;\n",
              "    }\n",
              "\n",
              "    .colab-df-convert:hover {\n",
              "      background-color: #E2EBFA;\n",
              "      box-shadow: 0px 1px 2px rgba(60, 64, 67, 0.3), 0px 1px 3px 1px rgba(60, 64, 67, 0.15);\n",
              "      fill: #174EA6;\n",
              "    }\n",
              "\n",
              "    [theme=dark] .colab-df-convert {\n",
              "      background-color: #3B4455;\n",
              "      fill: #D2E3FC;\n",
              "    }\n",
              "\n",
              "    [theme=dark] .colab-df-convert:hover {\n",
              "      background-color: #434B5C;\n",
              "      box-shadow: 0px 1px 3px 1px rgba(0, 0, 0, 0.15);\n",
              "      filter: drop-shadow(0px 1px 2px rgba(0, 0, 0, 0.3));\n",
              "      fill: #FFFFFF;\n",
              "    }\n",
              "  </style>\n",
              "\n",
              "      <script>\n",
              "        const buttonEl =\n",
              "          document.querySelector('#df-ea284246-691d-47b2-80a6-3ab0cabec030 button.colab-df-convert');\n",
              "        buttonEl.style.display =\n",
              "          google.colab.kernel.accessAllowed ? 'block' : 'none';\n",
              "\n",
              "        async function convertToInteractive(key) {\n",
              "          const element = document.querySelector('#df-ea284246-691d-47b2-80a6-3ab0cabec030');\n",
              "          const dataTable =\n",
              "            await google.colab.kernel.invokeFunction('convertToInteractive',\n",
              "                                                     [key], {});\n",
              "          if (!dataTable) return;\n",
              "\n",
              "          const docLinkHtml = 'Like what you see? Visit the ' +\n",
              "            '<a target=\"_blank\" href=https://colab.research.google.com/notebooks/data_table.ipynb>data table notebook</a>'\n",
              "            + ' to learn more about interactive tables.';\n",
              "          element.innerHTML = '';\n",
              "          dataTable['output_type'] = 'display_data';\n",
              "          await google.colab.output.renderOutput(dataTable, element);\n",
              "          const docLink = document.createElement('div');\n",
              "          docLink.innerHTML = docLinkHtml;\n",
              "          element.appendChild(docLink);\n",
              "        }\n",
              "      </script>\n",
              "    </div>\n",
              "  </div>\n",
              "  "
            ]
          },
          "metadata": {},
          "execution_count": 22
        }
      ],
      "source": [
        "#Shuffling the dataset with fixed seed\n",
        "\n",
        "df = pd.read_csv(artifact_dir)\n",
        "ds = df.sample(frac=1, random_state=0)\n",
        "\n",
        "\n",
        "wandb.init(project=\"GPT 3 for Generating Breaking Bad Dialog\", job_type=\"logging_dataset_as_table\")\n",
        "wandb.run.log({\"Raw dataset\" : wandb.Table(dataframe=ds)})\n",
        "\n",
        "ds.to_csv(\"BreakingCSV.csv\")\n",
        "ds.head()"
      ]
    },
    {
      "cell_type": "markdown",
      "metadata": {
        "id": "cCecM7trb7hu"
      },
      "source": [
        "### Using OpenAI Tool to preprocess the data"
      ]
    },
    {
      "cell_type": "code",
      "execution_count": null,
      "metadata": {
        "id": "_e8IO5swb7hu",
        "outputId": "03859555-3e0c-4642-c815-81fcc285d496",
        "colab": {
          "base_uri": "https://localhost:8080/"
        }
      },
      "outputs": [
        {
          "output_type": "stream",
          "name": "stdout",
          "text": [
            "Analyzing...\n",
            "\n",
            "- Based on your file extension, your file is formatted as a CSV file\n",
            "- Your file contains 10886 prompt-completion pairs\n",
            "- The input file should contain exactly two columns/keys per row. Additional columns/keys present are: ['Unnamed: 0']\n",
            "  WARNING: Some of the additional columns/keys contain `Unnamed: 0` in their name. These will be ignored, and the column/key `Unnamed: 0` will be used instead. This could also result from a duplicate column/key in the provided file.\n",
            "- There are 59 duplicated prompt-completion sets. These are rows: [984, 1321, 1692, 2101, 2213, 2235, 2565, 2664, 3080, 3282, 3969, 4184, 4373, 4659, 5049, 5128, 5278, 5326, 5488, 5619, 6025, 6047, 6102, 6466, 6535, 6619, 6660, 6741, 6766, 7315, 7406, 7428, 7624, 8061, 8164, 8359, 8369, 8465, 8600, 8613, 8646, 8778, 8793, 9084, 9436, 9816, 9887, 9927, 9934, 10429, 10450, 10536, 10606, 10633, 10700, 10703, 10730, 10811, 10868]\n",
            "- All prompts end with suffix ` ->`\n",
            "- All completions end with suffix ` END`\n",
            "- The completion should start with a whitespace character (` `). This tends to produce better results due to the tokenization we use. See https://beta.openai.com/docs/guides/fine-tuning/preparing-your-dataset for more details\n",
            "\n",
            "Based on the analysis we will perform the following actions:\n",
            "- [Necessary] Your format `CSV` will be converted to `JSONL`\n",
            "- [Necessary] Remove additional columns/keys: ['Unnamed: 0']\n",
            "- [Recommended] Remove 59 duplicate rows [Y/n]: Y\n",
            "- [Recommended] Add a whitespace character to the beginning of the completion [Y/n]: Y\n",
            "\n",
            "\n",
            "Your data will be written to a new JSONL file. Proceed [Y/n]: Y\n",
            "\n",
            "Wrote modified file to `BreakingCSV_prepared.jsonl`\n",
            "Feel free to take a look!\n",
            "\n",
            "Now use that file when fine-tuning:\n",
            "> openai api fine_tunes.create -t \"BreakingCSV_prepared.jsonl\"\n",
            "\n",
            "After you’ve fine-tuned a model, remember that your prompt has to end with the indicator string ` ->` for the model to start generating completions, rather than continuing with the prompt. Make sure to include `stop=[\" END\"]` so that the generated texts ends at the expected place.\n",
            "Once your model starts training, it'll approximately take 7.54 hours to train a `curie` model, and less for `ada` and `babbage`. Queue will approximately take half an hour per job ahead of you.\n"
          ]
        }
      ],
      "source": [
        "!openai tools fine_tunes.prepare_data -f BreakingCSV.csv"
      ]
    },
    {
      "cell_type": "markdown",
      "metadata": {
        "id": "tT6rnasbb7hv"
      },
      "source": [
        "### Splitting the data into train and val sets"
      ]
    },
    {
      "cell_type": "code",
      "execution_count": null,
      "metadata": {
        "id": "g2jsxYi6b7hv",
        "outputId": "043098cf-9cc0-4583-a12d-bf435e81d93e",
        "colab": {
          "base_uri": "https://localhost:8080/"
        }
      },
      "outputs": [
        {
          "output_type": "stream",
          "name": "stdout",
          "text": [
            "Total: 10827\n",
            "Val data: 1082\n",
            "Train data: 9745\n"
          ]
        }
      ],
      "source": [
        "#The dataset has 304 pairs in total\n",
        "import json\n",
        "\n",
        "with open('BreakingCSV_prepared.jsonl', 'r') as json_file:\n",
        "    json_list = list(json_file)\n",
        "\n",
        "num_data = len(json_list)\n",
        "print(\"Total:\", num_data)\n",
        "\n",
        "val_part = 0.1 \n",
        "\n",
        "val_amount = int(num_data * val_part)\n",
        "print(\"Val data:\", val_amount)\n",
        "train_amount = num_data - val_amount \n",
        "print(\"Train data:\", train_amount)\n",
        "\n",
        "!head -n $train_amount BreakingCSV_prepared.jsonl > bb_train.jsonl\n",
        "!tail -n $val_amount  BreakingCSV_prepared.jsonl > bb_valid.jsonl\n"
      ]
    },
    {
      "cell_type": "code",
      "execution_count": null,
      "metadata": {
        "id": "x5gQC2Grb7hw",
        "outputId": "7cc7fce0-d277-4480-d773-b1770c027d53",
        "colab": {
          "referenced_widgets": [
            "66e1d3f538b34f4b8794f3e267abd82d",
            "fcec99b596b646a3894007ad9c17ac4e",
            "64726716e2f34327b86f31d25606033e",
            "ae5a7db2477b46b4ba987c92b7684e9f",
            "4dc13ddcd8bd4833bd9e32a32024d01c",
            "b1d4037b9787412f9fab63603450b349",
            "c5084f36eaae4a3785ee447d81d73c30",
            "16424d5eece64120a481d9c95802492c"
          ],
          "base_uri": "https://localhost:8080/",
          "height": 150
        }
      },
      "outputs": [
        {
          "output_type": "display_data",
          "data": {
            "text/plain": [
              "<IPython.core.display.HTML object>"
            ],
            "text/html": [
              "Waiting for W&B process to finish... <strong style=\"color:green\">(success).</strong>"
            ]
          },
          "metadata": {}
        },
        {
          "output_type": "display_data",
          "data": {
            "text/plain": [
              "VBox(children=(Label(value='2.316 MB of 2.316 MB uploaded (0.000 MB deduped)\\r'), FloatProgress(value=1.0, max…"
            ],
            "application/vnd.jupyter.widget-view+json": {
              "version_major": 2,
              "version_minor": 0,
              "model_id": "66e1d3f538b34f4b8794f3e267abd82d"
            }
          },
          "metadata": {}
        },
        {
          "output_type": "display_data",
          "data": {
            "text/plain": [
              "<IPython.core.display.HTML object>"
            ],
            "text/html": [
              "Synced <strong style=\"color:#cdcd00\">young-firefly-13</strong>: <a href=\"https://wandb.ai/jareyna/GPT%203%20for%20Generating%20Breaking%20Bad%20Dialog/runs/8awj5530\" target=\"_blank\">https://wandb.ai/jareyna/GPT%203%20for%20Generating%20Breaking%20Bad%20Dialog/runs/8awj5530</a><br/>Synced 5 W&B file(s), 1 media file(s), 1 artifact file(s) and 0 other file(s)"
            ]
          },
          "metadata": {}
        },
        {
          "output_type": "display_data",
          "data": {
            "text/plain": [
              "<IPython.core.display.HTML object>"
            ],
            "text/html": [
              "Find logs at: <code>./wandb/run-20221117_055946-8awj5530/logs</code>"
            ]
          },
          "metadata": {}
        }
      ],
      "source": [
        "wandb.finish()"
      ]
    },
    {
      "cell_type": "markdown",
      "metadata": {
        "id": "f3BsVYX5b7hx"
      },
      "source": [
        "### Let's define our GPT-3 fine-tuning hyper-parameters."
      ]
    },
    {
      "cell_type": "code",
      "execution_count": null,
      "metadata": {
        "id": "VQsSO7TIb7hx"
      },
      "outputs": [],
      "source": [
        "model = 'curie'  # can be ada, babbage or curie\n",
        "n_epochs = 4\n",
        "batch_size = 4\n",
        "learning_rate_multiplier = 0.1\n",
        "prompt_loss_weight = 0.1"
      ]
    },
    {
      "cell_type": "markdown",
      "metadata": {
        "id": "xEJPdZEbb7hx"
      },
      "source": [
        "### Time to train the model!"
      ]
    },
    {
      "cell_type": "code",
      "execution_count": null,
      "metadata": {
        "id": "ywH1daAZb7hx",
        "outputId": "e4b9c78d-381b-4813-fc44-e3b97a2a4f23",
        "colab": {
          "base_uri": "https://localhost:8080/"
        }
      },
      "outputs": [
        {
          "output_type": "stream",
          "name": "stdout",
          "text": [
            "\rUpload progress:   0% 0.00/1.34M [00:00<?, ?it/s]\rUpload progress: 100% 1.34M/1.34M [00:00<00:00, 1.42Git/s]\n",
            "Uploaded file from bb_train.jsonl: file-4gbrL7hmLhB6exp6KxwvtkMh\n",
            "Upload progress: 100% 146k/146k [00:00<00:00, 178Mit/s]\n",
            "Uploaded file from bb_valid.jsonl: file-oxT5tAHZDXxrymOngMtUi7g4\n",
            "Created fine-tune: ft-ihyVLAkmTeMkMfFJ24nxxNXM\n",
            "Streaming events until fine-tuning is complete...\n",
            "\n",
            "(Ctrl-C will interrupt the stream, but not cancel the fine-tune)\n",
            "[2022-11-17 06:08:39] Created fine-tune: ft-ihyVLAkmTeMkMfFJ24nxxNXM\n",
            "[2022-11-17 06:08:45] Fine-tune costs $3.35\n",
            "[2022-11-17 06:08:45] Fine-tune enqueued. Queue number: 0\n",
            "[2022-11-17 06:08:46] Fine-tune started\n",
            "\n",
            "Stream interrupted (client disconnected).\n",
            "To resume the stream, run:\n",
            "\n",
            "  openai api fine_tunes.follow -i ft-ihyVLAkmTeMkMfFJ24nxxNXM\n",
            "\n"
          ]
        }
      ],
      "source": [
        "!openai api fine_tunes.create \\\n",
        "    -t bb_train.jsonl \\\n",
        "    -v bb_valid.jsonl \\\n",
        "    -m $model \\\n",
        "    --n_epochs $n_epochs \\\n",
        "    --batch_size $batch_size \\\n",
        "    --learning_rate_multiplier $learning_rate_multiplier \\\n",
        "    --prompt_loss_weight $prompt_loss_weight"
      ]
    },
    {
      "cell_type": "code",
      "source": [
        "!openai api fine_tunes.follow -i ft-ihyVLAkmTeMkMfFJ24nxxNXM"
      ],
      "metadata": {
        "colab": {
          "base_uri": "https://localhost:8080/"
        },
        "id": "opTBmEce_0Bw",
        "outputId": "03f18f0c-a3d6-40bf-c4ca-a54c4a54f499"
      },
      "execution_count": null,
      "outputs": [
        {
          "output_type": "stream",
          "name": "stdout",
          "text": [
            "[2022-11-17 06:08:39] Created fine-tune: ft-ihyVLAkmTeMkMfFJ24nxxNXM\n",
            "[2022-11-17 06:08:45] Fine-tune costs $3.35\n",
            "[2022-11-17 06:08:45] Fine-tune enqueued. Queue number: 0\n",
            "[2022-11-17 06:08:46] Fine-tune started\n",
            "[2022-11-17 06:32:18] Completed epoch 1/4\n",
            "[2022-11-17 06:55:04] Completed epoch 2/4\n",
            "[2022-11-17 07:17:41] Completed epoch 3/4\n",
            "[2022-11-17 07:40:20] Completed epoch 4/4\n",
            "[2022-11-17 07:40:45] Uploaded model: curie:ft-personal-2022-11-17-07-40-44\n",
            "[2022-11-17 07:40:46] Uploaded result file: file-kG5P8EC6k3POdA0zEIBA7wVp\n",
            "[2022-11-17 07:40:46] Fine-tune succeeded\n",
            "\n",
            "Job complete! Status: succeeded 🎉\n",
            "Try out your fine-tuned model:\n",
            "\n",
            "openai api completions.create -m curie:ft-personal-2022-11-17-07-40-44 -p <YOUR_PROMPT>\n"
          ]
        }
      ]
    },
    {
      "cell_type": "code",
      "source": [
        "!openai api completions.create -m curie:ft-personal-2022-11-17-07-40-44 -p \"How do you know my name? ->\""
      ],
      "metadata": {
        "colab": {
          "base_uri": "https://localhost:8080/"
        },
        "id": "6gz6O7DBj17o",
        "outputId": "3e69e3d9-6de5-4ce4-c557-29606ea1ef3c"
      },
      "execution_count": null,
      "outputs": [
        {
          "output_type": "stream",
          "name": "stdout",
          "text": [
            "How do you know my name? -> Your Aunt Marie knows. She's been giving me a ton of your history."
          ]
        }
      ]
    },
    {
      "cell_type": "code",
      "source": [
        "!openai api completions.create -m curie:ft-personal-2022-11-17-01-49-03 -p \"How do you know my name?\""
      ],
      "metadata": {
        "colab": {
          "base_uri": "https://localhost:8080/"
        },
        "id": "nMZyDiycTIL4",
        "outputId": "c8f020a2-308c-4863-ccf1-662f78c2c75e"
      },
      "execution_count": null,
      "outputs": [
        {
          "output_type": "stream",
          "name": "stdout",
          "text": [
            "How do you know my name? - Your name was on the list.\r\n",
            " Whoa, whoa,"
          ]
        }
      ]
    },
    {
      "cell_type": "markdown",
      "metadata": {
        "id": "EK-ebBHvb7hy"
      },
      "source": [
        "## Sync fine-tune jobs to Weights & Biases"
      ]
    },
    {
      "cell_type": "markdown",
      "metadata": {
        "id": "BwPUckTCb7hy"
      },
      "source": [
        "We can log our fine-tunes with a simple command."
      ]
    },
    {
      "cell_type": "code",
      "execution_count": null,
      "metadata": {
        "id": "1MLh08Hsb7hy",
        "outputId": "50f0eb0e-ce83-4db4-f555-d7b2aa0e00f8",
        "colab": {
          "base_uri": "https://localhost:8080/"
        }
      },
      "outputs": [
        {
          "output_type": "stream",
          "name": "stdout",
          "text": [
            "usage: openai wandb sync [-h] [-i ID] [-n N_FINE_TUNES] [--project PROJECT]\n",
            "                         [--entity ENTITY] [--force]\n",
            "\n",
            "optional arguments:\n",
            "  -h, --help            show this help message and exit\n",
            "  -i ID, --id ID        The id of the fine-tune job (optional)\n",
            "  -n N_FINE_TUNES, --n_fine_tunes N_FINE_TUNES\n",
            "                        Number of most recent fine-tunes to log when an id is\n",
            "                        not provided. By default, every fine-tune is synced.\n",
            "  --project PROJECT     Name of the project where you're sending runs. By\n",
            "                        default, it is \"GPT-3\".\n",
            "  --entity ENTITY       Username or team name where you're sending runs. By\n",
            "                        default, your default entity is used, which is usually\n",
            "                        your username.\n",
            "  --force               Forces logging and overwrite existing wandb run of the\n",
            "                        same fine-tune.\n"
          ]
        }
      ],
      "source": [
        "!openai wandb sync --help"
      ]
    },
    {
      "cell_type": "code",
      "execution_count": null,
      "metadata": {
        "id": "q_uLi3YZb7hy",
        "outputId": "438ec450-9d1e-4d46-eb41-1de1dfbb1434",
        "colab": {
          "base_uri": "https://localhost:8080/"
        }
      },
      "outputs": [
        {
          "output_type": "stream",
          "name": "stdout",
          "text": [
            "\u001b[34m\u001b[1mwandb\u001b[0m: Currently logged in as: \u001b[33mjareyna\u001b[0m. Use \u001b[1m`wandb login --relogin`\u001b[0m to force relogin\n",
            "\u001b[34m\u001b[1mwandb\u001b[0m: Tracking run with wandb version 0.13.5\n",
            "\u001b[34m\u001b[1mwandb\u001b[0m: Run data is saved locally in \u001b[35m\u001b[1m/content/wandb/run-20221117_074332-ft-ihyVLAkmTeMkMfFJ24nxxNXM\u001b[0m\n",
            "\u001b[34m\u001b[1mwandb\u001b[0m: Run \u001b[1m`wandb offline`\u001b[0m to turn off syncing.\n",
            "\u001b[34m\u001b[1mwandb\u001b[0m: Syncing run \u001b[33mft-ihyVLAkmTeMkMfFJ24nxxNXM\u001b[0m\n",
            "\u001b[34m\u001b[1mwandb\u001b[0m: ⭐️ View project at \u001b[34m\u001b[4mhttps://wandb.ai/jareyna/GPT%203%20for%20Generating%20Breaking%20Bad%20Dialog\u001b[0m\n",
            "\u001b[34m\u001b[1mwandb\u001b[0m: 🚀 View run at \u001b[34m\u001b[4mhttps://wandb.ai/jareyna/GPT%203%20for%20Generating%20Breaking%20Bad%20Dialog/runs/ft-ihyVLAkmTeMkMfFJ24nxxNXM\u001b[0m\n",
            "File file-4gbrL7hmLhB6exp6KxwvtkMh could not be retrieved. Make sure you are allowed to download training/validation files\n",
            "File file-oxT5tAHZDXxrymOngMtUi7g4 could not be retrieved. Make sure you are allowed to download training/validation files\n",
            "\u001b[34m\u001b[1mwandb\u001b[0m: Waiting for W&B process to finish... \u001b[32m(success).\u001b[0m\n",
            "\u001b[34m\u001b[1mwandb\u001b[0m: \n",
            "\u001b[34m\u001b[1mwandb\u001b[0m: Run history:\n",
            "\u001b[34m\u001b[1mwandb\u001b[0m:             elapsed_examples ▁▁▁▁▂▂▂▂▂▃▃▃▃▃▃▄▄▄▄▄▅▅▅▅▅▅▆▆▆▆▆▇▇▇▇▇▇███\n",
            "\u001b[34m\u001b[1mwandb\u001b[0m:               elapsed_tokens ▁▁▁▁▂▂▂▂▂▃▃▃▃▃▃▄▄▄▄▄▅▅▅▅▅▅▆▆▆▆▆▇▇▇▇▇▇███\n",
            "\u001b[34m\u001b[1mwandb\u001b[0m:                training_loss ▃▆▂▃▇▂█▄▅▃▄▄▆▂▁▁▄▆▂▂▂▄▁▄▅▄▁▂▃▂▂▁▁▂▂▄▁▃▁▂\n",
            "\u001b[34m\u001b[1mwandb\u001b[0m:   training_sequence_accuracy ▁▁▁▁▁▁▁▁▁▁▁▁▁▁▁▁▁▁▁▁█▁▁▁▁▁█▁█▁▁██▁▁▁▁▁█▁\n",
            "\u001b[34m\u001b[1mwandb\u001b[0m:      training_token_accuracy ▃▃▁▃▃▂▂▃▂▃▃▂▃▃▅▄▂▄▂▅▆▄▅▄▂▄▆▅▄▅▅██▅▇▄▅▅▇▇\n",
            "\u001b[34m\u001b[1mwandb\u001b[0m:              validation_loss ▃▄▄▃▃▄▅▄▁▃▆▄▃▆▃▃▆▅▄▃▅▄▆▅▁▄▅▄▇▄▄▅▅▄▄▅█▅▇▄\n",
            "\u001b[34m\u001b[1mwandb\u001b[0m: validation_sequence_accuracy ▁▁▁▁▁▁▁▁▁▁▁▁▁▁▁█▁▁▁▁▁▁▁▁▁▁▁▁▁▁▁▁▁▁▁▁▁▁▁▁\n",
            "\u001b[34m\u001b[1mwandb\u001b[0m:    validation_token_accuracy ▄▄▆▄▆▄▃▄█▆▃▃▄▄▅▅▃▄▄▃▃▄▃▅▆▃▆▄▂▅▅▂▄▁▄▅▃▄▃▄\n",
            "\u001b[34m\u001b[1mwandb\u001b[0m: \n",
            "\u001b[34m\u001b[1mwandb\u001b[0m: Run summary:\n",
            "\u001b[34m\u001b[1mwandb\u001b[0m:             elapsed_examples 38984.0\n",
            "\u001b[34m\u001b[1mwandb\u001b[0m:               elapsed_tokens 2134024.0\n",
            "\u001b[34m\u001b[1mwandb\u001b[0m:             fine_tuned_model curie:ft-personal-20...\n",
            "\u001b[34m\u001b[1mwandb\u001b[0m:                       status succeeded\n",
            "\u001b[34m\u001b[1mwandb\u001b[0m:                training_loss 0.48158\n",
            "\u001b[34m\u001b[1mwandb\u001b[0m:   training_sequence_accuracy 0.0\n",
            "\u001b[34m\u001b[1mwandb\u001b[0m:      training_token_accuracy 0.64516\n",
            "\u001b[34m\u001b[1mwandb\u001b[0m:              validation_loss 0.24726\n",
            "\u001b[34m\u001b[1mwandb\u001b[0m: validation_sequence_accuracy 0.0\n",
            "\u001b[34m\u001b[1mwandb\u001b[0m:    validation_token_accuracy 0.56\n",
            "\u001b[34m\u001b[1mwandb\u001b[0m: \n",
            "\u001b[34m\u001b[1mwandb\u001b[0m: Synced \u001b[33mft-ihyVLAkmTeMkMfFJ24nxxNXM\u001b[0m: \u001b[34m\u001b[4mhttps://wandb.ai/jareyna/GPT%203%20for%20Generating%20Breaking%20Bad%20Dialog/runs/ft-ihyVLAkmTeMkMfFJ24nxxNXM\u001b[0m\n",
            "\u001b[34m\u001b[1mwandb\u001b[0m: Synced 5 W&B file(s), 0 media file(s), 1 artifact file(s) and 0 other file(s)\n",
            "\u001b[34m\u001b[1mwandb\u001b[0m: Find logs at: \u001b[35m\u001b[1m./wandb/run-20221117_074332-ft-ihyVLAkmTeMkMfFJ24nxxNXM/logs\u001b[0m\n",
            "🎉 wandb sync completed successfully\n"
          ]
        }
      ],
      "source": [
        "!openai wandb sync --project \"GPT 3 for Generating Breaking Bad Dialog\" "
      ]
    },
    {
      "cell_type": "markdown",
      "metadata": {
        "id": "xR8Yp5xTb7h7"
      },
      "source": [
        "Anytime we have new fine-tunes, we can just call openai wandb sync to add them to our dashboard."
      ]
    },
    {
      "cell_type": "markdown",
      "metadata": {
        "id": "CmnUcox7b7h7"
      },
      "source": [
        "## Log inference samples"
      ]
    },
    {
      "cell_type": "markdown",
      "metadata": {
        "id": "0qvfDpfAb7h7"
      },
      "source": [
        "The best way to evaluate a generative model is to explore sample predictions.\n",
        "\n",
        "Let's generate a few inference samples and log them to W&B."
      ]
    },
    {
      "cell_type": "code",
      "execution_count": null,
      "metadata": {
        "id": "C-DrrcTMb7h7",
        "outputId": "3bf5b4bd-1eef-47b9-f662-c2d6f8a6fde2",
        "colab": {
          "base_uri": "https://localhost:8080/",
          "height": 86
        }
      },
      "outputs": [
        {
          "output_type": "stream",
          "name": "stderr",
          "text": [
            "\u001b[34m\u001b[1mwandb\u001b[0m: Currently logged in as: \u001b[33mjareyna\u001b[0m. Use \u001b[1m`wandb login --relogin`\u001b[0m to force relogin\n"
          ]
        },
        {
          "output_type": "display_data",
          "data": {
            "text/plain": [
              "<IPython.core.display.HTML object>"
            ],
            "text/html": [
              "Tracking run with wandb version 0.13.5"
            ]
          },
          "metadata": {}
        },
        {
          "output_type": "display_data",
          "data": {
            "text/plain": [
              "<IPython.core.display.HTML object>"
            ],
            "text/html": [
              "Run data is saved locally in <code>/content/wandb/run-20221117_074429-1zhl6twy</code>"
            ]
          },
          "metadata": {}
        },
        {
          "output_type": "display_data",
          "data": {
            "text/plain": [
              "<IPython.core.display.HTML object>"
            ],
            "text/html": [
              "Syncing run <strong><a href=\"https://wandb.ai/jareyna/GPT%203%20for%20Generating%20Breaking%20Bad%20Dialog/runs/1zhl6twy\" target=\"_blank\">atomic-cloud-15</a></strong> to <a href=\"https://wandb.ai/jareyna/GPT%203%20for%20Generating%20Breaking%20Bad%20Dialog\" target=\"_blank\">Weights & Biases</a> (<a href=\"https://wandb.me/run\" target=\"_blank\">docs</a>)<br/>"
            ]
          },
          "metadata": {}
        }
      ],
      "source": [
        "# create eval job\n",
        "run = wandb.init(project='GPT 3 for Generating Breaking Bad Dialog', job_type='eval')\n",
        "entity = wandb.run.entity"
      ]
    },
    {
      "cell_type": "markdown",
      "metadata": {
        "id": "5mOd6POcb7h7"
      },
      "source": [
        "We can easily retrieve all config parameters from a job file.\n",
        "\n",
        "Job files are logged to W&B as artifacts and can be accessed with `run.use_artifact('USERNAME/PROJECT/job_details:VERSION')` where `VERSION` is either:\n",
        "* a version number such as `v2`\n",
        "* the fine-tune id such as `ft-xxxxxxxxx`\n",
        "* an alias added automatically such as `latest` or manually\n",
        "\n",
        "You can explore them in your artifacts dashboard."
      ]
    },
    {
      "cell_type": "code",
      "execution_count": null,
      "metadata": {
        "id": "WgAZdpYkb7h7",
        "outputId": "fc448a40-f410-4f97-dc82-fbd385592df9",
        "colab": {
          "base_uri": "https://localhost:8080/"
        }
      },
      "outputs": [
        {
          "output_type": "execute_result",
          "data": {
            "text/plain": [
              "{'id': 'ft-ihyVLAkmTeMkMfFJ24nxxNXM',\n",
              " 'model': 'curie',\n",
              " 'object': 'fine-tune',\n",
              " 'status': 'succeeded',\n",
              " 'created_at': 1668665319,\n",
              " 'updated_at': 1668670846,\n",
              " 'hyperparams': {'n_epochs': 4,\n",
              "  'batch_size': 4,\n",
              "  'prompt_loss_weight': 0.1,\n",
              "  'learning_rate_multiplier': 0.1},\n",
              " 'result_files': [{'id': 'file-kG5P8EC6k3POdA0zEIBA7wVp',\n",
              "   'bytes': 641022,\n",
              "   'object': 'file',\n",
              "   'status': 'processed',\n",
              "   'purpose': 'fine-tune-results',\n",
              "   'filename': 'compiled_results.csv',\n",
              "   'created_at': 1668670845,\n",
              "   'status_details': None}],\n",
              " 'training_files': [{'id': 'file-4gbrL7hmLhB6exp6KxwvtkMh',\n",
              "   'bytes': 1342420,\n",
              "   'object': 'file',\n",
              "   'status': 'processed',\n",
              "   'purpose': 'fine-tune',\n",
              "   'filename': 'bb_train.jsonl',\n",
              "   'created_at': 1668665318,\n",
              "   'status_details': None}],\n",
              " 'organization_id': 'org-m9no01INvISPT0msAk4Cycqv',\n",
              " 'fine_tuned_model': 'curie:ft-personal-2022-11-17-07-40-44',\n",
              " 'validation_files': [{'id': 'file-oxT5tAHZDXxrymOngMtUi7g4',\n",
              "   'bytes': 145924,\n",
              "   'object': 'file',\n",
              "   'status': 'processed',\n",
              "   'purpose': 'fine-tune',\n",
              "   'filename': 'bb_valid.jsonl',\n",
              "   'created_at': 1668665319,\n",
              "   'status_details': None}]}"
            ]
          },
          "metadata": {},
          "execution_count": 41
        }
      ],
      "source": [
        "# choose a fine-tuned model\n",
        "artifact_job = run.use_artifact(f'{entity}/GPT 3 for Generating Breaking Bad Dialog/fine_tune_details:latest', type='fine_tune_details')\n",
        "artifact_job.metadata\n",
        "\n"
      ]
    },
    {
      "cell_type": "markdown",
      "metadata": {
        "id": "JkQSVHo-b7h8"
      },
      "source": [
        "Let's take advantage to add metadata into our eval run config."
      ]
    },
    {
      "cell_type": "code",
      "execution_count": null,
      "metadata": {
        "id": "7fMwahEgb7h8"
      },
      "outputs": [],
      "source": [
        "wandb.config.update({k:artifact_job.metadata[k] for k in ['fine_tuned_model', 'model', 'hyperparams']})"
      ]
    },
    {
      "cell_type": "markdown",
      "metadata": {
        "id": "5LwdsTRJb7h8"
      },
      "source": [
        "We can easily access model id from any job."
      ]
    },
    {
      "cell_type": "code",
      "execution_count": null,
      "metadata": {
        "id": "XNIyDkG0b7h8",
        "outputId": "6adbb6c4-d24f-4613-d8e3-5cd20eb1080d",
        "colab": {
          "base_uri": "https://localhost:8080/",
          "height": 35
        }
      },
      "outputs": [
        {
          "output_type": "execute_result",
          "data": {
            "text/plain": [
              "'curie:ft-personal-2022-11-17-07-40-44'"
            ],
            "application/vnd.google.colaboratory.intrinsic+json": {
              "type": "string"
            }
          },
          "metadata": {},
          "execution_count": 43
        }
      ],
      "source": [
        "fine_tuned_model = artifact_job.metadata['fine_tuned_model']\n",
        "fine_tuned_model"
      ]
    },
    {
      "cell_type": "markdown",
      "metadata": {
        "id": "fhkfB9nJb7h8"
      },
      "source": [
        "Loading validation data as dataframe"
      ]
    },
    {
      "cell_type": "code",
      "execution_count": null,
      "metadata": {
        "id": "6HrUiwQqb7h8",
        "outputId": "5beec857-9088-4efe-c766-a3d86bb9625a",
        "colab": {
          "base_uri": "https://localhost:8080/",
          "height": 206
        }
      },
      "outputs": [
        {
          "output_type": "execute_result",
          "data": {
            "text/plain": [
              "                                              prompt  \\\n",
              "0  But what? The rest of us are like, open season...   \n",
              "1                                            Yes. ->   \n",
              "2  It's about 700 grand. That's a pretty good hau...   \n",
              "3     And, no doubt, our profits will be smaller. ->   \n",
              "4                                         Ohh Oi. ->   \n",
              "\n",
              "                                          completion  \n",
              "0                                        Enough. END  \n",
              "1              The owner is quite the collector. END  \n",
              "2   As I say, it's a good day for the citizens of...  \n",
              "3                             At least at first. END  \n",
              "4                                 Wait a minute. END  "
            ],
            "text/html": [
              "\n",
              "  <div id=\"df-f50e01f6-d26b-423b-9a0e-d6b62fa54fdf\">\n",
              "    <div class=\"colab-df-container\">\n",
              "      <div>\n",
              "<style scoped>\n",
              "    .dataframe tbody tr th:only-of-type {\n",
              "        vertical-align: middle;\n",
              "    }\n",
              "\n",
              "    .dataframe tbody tr th {\n",
              "        vertical-align: top;\n",
              "    }\n",
              "\n",
              "    .dataframe thead th {\n",
              "        text-align: right;\n",
              "    }\n",
              "</style>\n",
              "<table border=\"1\" class=\"dataframe\">\n",
              "  <thead>\n",
              "    <tr style=\"text-align: right;\">\n",
              "      <th></th>\n",
              "      <th>prompt</th>\n",
              "      <th>completion</th>\n",
              "    </tr>\n",
              "  </thead>\n",
              "  <tbody>\n",
              "    <tr>\n",
              "      <th>0</th>\n",
              "      <td>But what? The rest of us are like, open season...</td>\n",
              "      <td>Enough. END</td>\n",
              "    </tr>\n",
              "    <tr>\n",
              "      <th>1</th>\n",
              "      <td>Yes. -&gt;</td>\n",
              "      <td>The owner is quite the collector. END</td>\n",
              "    </tr>\n",
              "    <tr>\n",
              "      <th>2</th>\n",
              "      <td>It's about 700 grand. That's a pretty good hau...</td>\n",
              "      <td>As I say, it's a good day for the citizens of...</td>\n",
              "    </tr>\n",
              "    <tr>\n",
              "      <th>3</th>\n",
              "      <td>And, no doubt, our profits will be smaller. -&gt;</td>\n",
              "      <td>At least at first. END</td>\n",
              "    </tr>\n",
              "    <tr>\n",
              "      <th>4</th>\n",
              "      <td>Ohh Oi. -&gt;</td>\n",
              "      <td>Wait a minute. END</td>\n",
              "    </tr>\n",
              "  </tbody>\n",
              "</table>\n",
              "</div>\n",
              "      <button class=\"colab-df-convert\" onclick=\"convertToInteractive('df-f50e01f6-d26b-423b-9a0e-d6b62fa54fdf')\"\n",
              "              title=\"Convert this dataframe to an interactive table.\"\n",
              "              style=\"display:none;\">\n",
              "        \n",
              "  <svg xmlns=\"http://www.w3.org/2000/svg\" height=\"24px\"viewBox=\"0 0 24 24\"\n",
              "       width=\"24px\">\n",
              "    <path d=\"M0 0h24v24H0V0z\" fill=\"none\"/>\n",
              "    <path d=\"M18.56 5.44l.94 2.06.94-2.06 2.06-.94-2.06-.94-.94-2.06-.94 2.06-2.06.94zm-11 1L8.5 8.5l.94-2.06 2.06-.94-2.06-.94L8.5 2.5l-.94 2.06-2.06.94zm10 10l.94 2.06.94-2.06 2.06-.94-2.06-.94-.94-2.06-.94 2.06-2.06.94z\"/><path d=\"M17.41 7.96l-1.37-1.37c-.4-.4-.92-.59-1.43-.59-.52 0-1.04.2-1.43.59L10.3 9.45l-7.72 7.72c-.78.78-.78 2.05 0 2.83L4 21.41c.39.39.9.59 1.41.59.51 0 1.02-.2 1.41-.59l7.78-7.78 2.81-2.81c.8-.78.8-2.07 0-2.86zM5.41 20L4 18.59l7.72-7.72 1.47 1.35L5.41 20z\"/>\n",
              "  </svg>\n",
              "      </button>\n",
              "      \n",
              "  <style>\n",
              "    .colab-df-container {\n",
              "      display:flex;\n",
              "      flex-wrap:wrap;\n",
              "      gap: 12px;\n",
              "    }\n",
              "\n",
              "    .colab-df-convert {\n",
              "      background-color: #E8F0FE;\n",
              "      border: none;\n",
              "      border-radius: 50%;\n",
              "      cursor: pointer;\n",
              "      display: none;\n",
              "      fill: #1967D2;\n",
              "      height: 32px;\n",
              "      padding: 0 0 0 0;\n",
              "      width: 32px;\n",
              "    }\n",
              "\n",
              "    .colab-df-convert:hover {\n",
              "      background-color: #E2EBFA;\n",
              "      box-shadow: 0px 1px 2px rgba(60, 64, 67, 0.3), 0px 1px 3px 1px rgba(60, 64, 67, 0.15);\n",
              "      fill: #174EA6;\n",
              "    }\n",
              "\n",
              "    [theme=dark] .colab-df-convert {\n",
              "      background-color: #3B4455;\n",
              "      fill: #D2E3FC;\n",
              "    }\n",
              "\n",
              "    [theme=dark] .colab-df-convert:hover {\n",
              "      background-color: #434B5C;\n",
              "      box-shadow: 0px 1px 3px 1px rgba(0, 0, 0, 0.15);\n",
              "      filter: drop-shadow(0px 1px 2px rgba(0, 0, 0, 0.3));\n",
              "      fill: #FFFFFF;\n",
              "    }\n",
              "  </style>\n",
              "\n",
              "      <script>\n",
              "        const buttonEl =\n",
              "          document.querySelector('#df-f50e01f6-d26b-423b-9a0e-d6b62fa54fdf button.colab-df-convert');\n",
              "        buttonEl.style.display =\n",
              "          google.colab.kernel.accessAllowed ? 'block' : 'none';\n",
              "\n",
              "        async function convertToInteractive(key) {\n",
              "          const element = document.querySelector('#df-f50e01f6-d26b-423b-9a0e-d6b62fa54fdf');\n",
              "          const dataTable =\n",
              "            await google.colab.kernel.invokeFunction('convertToInteractive',\n",
              "                                                     [key], {});\n",
              "          if (!dataTable) return;\n",
              "\n",
              "          const docLinkHtml = 'Like what you see? Visit the ' +\n",
              "            '<a target=\"_blank\" href=https://colab.research.google.com/notebooks/data_table.ipynb>data table notebook</a>'\n",
              "            + ' to learn more about interactive tables.';\n",
              "          element.innerHTML = '';\n",
              "          dataTable['output_type'] = 'display_data';\n",
              "          await google.colab.output.renderOutput(dataTable, element);\n",
              "          const docLink = document.createElement('div');\n",
              "          docLink.innerHTML = docLinkHtml;\n",
              "          element.appendChild(docLink);\n",
              "        }\n",
              "      </script>\n",
              "    </div>\n",
              "  </div>\n",
              "  "
            ]
          },
          "metadata": {},
          "execution_count": 44
        }
      ],
      "source": [
        "df = pd.read_json(\"bb_valid.jsonl\", orient='records', lines=True)\n",
        "df.head()"
      ]
    },
    {
      "cell_type": "markdown",
      "metadata": {
        "id": "yW-y1qZob7h8"
      },
      "source": [
        "We'll perform the inference on all 30 validation examples. "
      ]
    },
    {
      "cell_type": "code",
      "execution_count": null,
      "metadata": {
        "id": "7bZQPFSUb7h8"
      },
      "outputs": [],
      "source": [
        "n_samples = 30\n",
        "df = df.iloc[:n_samples]"
      ]
    },
    {
      "cell_type": "code",
      "execution_count": null,
      "metadata": {
        "id": "dBh6Qz4fb7h9",
        "outputId": "5282f65d-e4e0-4b46-b63a-0994f91f58d5",
        "colab": {
          "base_uri": "https://localhost:8080/"
        }
      },
      "outputs": [
        {
          "output_type": "stream",
          "name": "stderr",
          "text": [
            "30it [00:07,  3.80it/s]\n"
          ]
        }
      ],
      "source": [
        "data = []\n",
        "\n",
        "for _, row in tqdm(df.iterrows()):\n",
        "    prompt = row['prompt']\n",
        "    res = openai.Completion.create(model=fine_tuned_model, prompt=prompt, max_tokens=300, stop=[\" END\"])\n",
        "    completion = res['choices'][0]['text']\n",
        "    completion = completion[1:]       # remove initial space\n",
        "    prompt = prompt[:-3]              # remove \" ->\"\n",
        "    target = row['completion'][1:-4]  # remove initial space and \"END\"\n",
        "    data.append([prompt, target, completion])"
      ]
    },
    {
      "cell_type": "markdown",
      "metadata": {
        "id": "FvJGeDFQb7h9"
      },
      "source": [
        "We create and log a W&B Table to easily explore, query & compare model predictions."
      ]
    },
    {
      "cell_type": "code",
      "execution_count": null,
      "metadata": {
        "id": "5FX3q9nbb7h9"
      },
      "outputs": [],
      "source": [
        "prediction_table = wandb.Table(columns=['prompt', 'target', 'completion'], data=data)"
      ]
    },
    {
      "cell_type": "code",
      "execution_count": null,
      "metadata": {
        "id": "IXxAas9ub7h9"
      },
      "outputs": [],
      "source": [
        "wandb.log({'predictions': prediction_table})"
      ]
    },
    {
      "cell_type": "markdown",
      "metadata": {
        "id": "R7qCiVfBb7h9"
      },
      "source": [
        "You can open the link to your run page down below. "
      ]
    },
    {
      "cell_type": "code",
      "execution_count": null,
      "metadata": {
        "id": "KUpfWOBRb7h9"
      },
      "outputs": [],
      "source": [
        "wandb.finish() #work out a way to print the run page link"
      ]
    },
    {
      "cell_type": "markdown",
      "metadata": {
        "id": "FLsoeA1Rb7h9"
      },
      "source": [
        "# Resources\n",
        "https://wandb.ai/ivangoncharov/GPT-3%20to%20Generate%20Doctor%20Who%20Synopses?workspace=user-ivangoncharov"
      ]
    }
  ],
  "metadata": {
    "kernelspec": {
      "display_name": "Python 3",
      "name": "python3"
    },
    "colab": {
      "provenance": []
    },
    "widgets": {
      "application/vnd.jupyter.widget-state+json": {
        "cea15289f19c4dbea77de22e829da48f": {
          "model_module": "@jupyter-widgets/controls",
          "model_name": "VBoxModel",
          "model_module_version": "1.5.0",
          "state": {
            "_dom_classes": [],
            "_model_module": "@jupyter-widgets/controls",
            "_model_module_version": "1.5.0",
            "_model_name": "VBoxModel",
            "_view_count": null,
            "_view_module": "@jupyter-widgets/controls",
            "_view_module_version": "1.5.0",
            "_view_name": "VBoxView",
            "box_style": "",
            "children": [
              "IPY_MODEL_636ea0b25da0464ba3cccba487519ab3",
              "IPY_MODEL_2c6f57ddadc849b6aff65c7b41ced396"
            ],
            "layout": "IPY_MODEL_4f6f48066d2c4933a105c6827127f0ad"
          }
        },
        "636ea0b25da0464ba3cccba487519ab3": {
          "model_module": "@jupyter-widgets/controls",
          "model_name": "LabelModel",
          "model_module_version": "1.5.0",
          "state": {
            "_dom_classes": [],
            "_model_module": "@jupyter-widgets/controls",
            "_model_module_version": "1.5.0",
            "_model_name": "LabelModel",
            "_view_count": null,
            "_view_module": "@jupyter-widgets/controls",
            "_view_module_version": "1.5.0",
            "_view_name": "LabelView",
            "description": "",
            "description_tooltip": null,
            "layout": "IPY_MODEL_5a1eda23c449472297f6284b83458577",
            "placeholder": "​",
            "style": "IPY_MODEL_34a30c9f5e014e5e9702a9faf1907cd0",
            "value": "0.001 MB of 0.001 MB uploaded (0.000 MB deduped)\r"
          }
        },
        "2c6f57ddadc849b6aff65c7b41ced396": {
          "model_module": "@jupyter-widgets/controls",
          "model_name": "FloatProgressModel",
          "model_module_version": "1.5.0",
          "state": {
            "_dom_classes": [],
            "_model_module": "@jupyter-widgets/controls",
            "_model_module_version": "1.5.0",
            "_model_name": "FloatProgressModel",
            "_view_count": null,
            "_view_module": "@jupyter-widgets/controls",
            "_view_module_version": "1.5.0",
            "_view_name": "ProgressView",
            "bar_style": "",
            "description": "",
            "description_tooltip": null,
            "layout": "IPY_MODEL_f73369625dfc44a6a0098293a97d8d90",
            "max": 1,
            "min": 0,
            "orientation": "horizontal",
            "style": "IPY_MODEL_c4fa0335d92848febbae895653a0b715",
            "value": 1
          }
        },
        "4f6f48066d2c4933a105c6827127f0ad": {
          "model_module": "@jupyter-widgets/base",
          "model_name": "LayoutModel",
          "model_module_version": "1.2.0",
          "state": {
            "_model_module": "@jupyter-widgets/base",
            "_model_module_version": "1.2.0",
            "_model_name": "LayoutModel",
            "_view_count": null,
            "_view_module": "@jupyter-widgets/base",
            "_view_module_version": "1.2.0",
            "_view_name": "LayoutView",
            "align_content": null,
            "align_items": null,
            "align_self": null,
            "border": null,
            "bottom": null,
            "display": null,
            "flex": null,
            "flex_flow": null,
            "grid_area": null,
            "grid_auto_columns": null,
            "grid_auto_flow": null,
            "grid_auto_rows": null,
            "grid_column": null,
            "grid_gap": null,
            "grid_row": null,
            "grid_template_areas": null,
            "grid_template_columns": null,
            "grid_template_rows": null,
            "height": null,
            "justify_content": null,
            "justify_items": null,
            "left": null,
            "margin": null,
            "max_height": null,
            "max_width": null,
            "min_height": null,
            "min_width": null,
            "object_fit": null,
            "object_position": null,
            "order": null,
            "overflow": null,
            "overflow_x": null,
            "overflow_y": null,
            "padding": null,
            "right": null,
            "top": null,
            "visibility": null,
            "width": null
          }
        },
        "5a1eda23c449472297f6284b83458577": {
          "model_module": "@jupyter-widgets/base",
          "model_name": "LayoutModel",
          "model_module_version": "1.2.0",
          "state": {
            "_model_module": "@jupyter-widgets/base",
            "_model_module_version": "1.2.0",
            "_model_name": "LayoutModel",
            "_view_count": null,
            "_view_module": "@jupyter-widgets/base",
            "_view_module_version": "1.2.0",
            "_view_name": "LayoutView",
            "align_content": null,
            "align_items": null,
            "align_self": null,
            "border": null,
            "bottom": null,
            "display": null,
            "flex": null,
            "flex_flow": null,
            "grid_area": null,
            "grid_auto_columns": null,
            "grid_auto_flow": null,
            "grid_auto_rows": null,
            "grid_column": null,
            "grid_gap": null,
            "grid_row": null,
            "grid_template_areas": null,
            "grid_template_columns": null,
            "grid_template_rows": null,
            "height": null,
            "justify_content": null,
            "justify_items": null,
            "left": null,
            "margin": null,
            "max_height": null,
            "max_width": null,
            "min_height": null,
            "min_width": null,
            "object_fit": null,
            "object_position": null,
            "order": null,
            "overflow": null,
            "overflow_x": null,
            "overflow_y": null,
            "padding": null,
            "right": null,
            "top": null,
            "visibility": null,
            "width": null
          }
        },
        "34a30c9f5e014e5e9702a9faf1907cd0": {
          "model_module": "@jupyter-widgets/controls",
          "model_name": "DescriptionStyleModel",
          "model_module_version": "1.5.0",
          "state": {
            "_model_module": "@jupyter-widgets/controls",
            "_model_module_version": "1.5.0",
            "_model_name": "DescriptionStyleModel",
            "_view_count": null,
            "_view_module": "@jupyter-widgets/base",
            "_view_module_version": "1.2.0",
            "_view_name": "StyleView",
            "description_width": ""
          }
        },
        "f73369625dfc44a6a0098293a97d8d90": {
          "model_module": "@jupyter-widgets/base",
          "model_name": "LayoutModel",
          "model_module_version": "1.2.0",
          "state": {
            "_model_module": "@jupyter-widgets/base",
            "_model_module_version": "1.2.0",
            "_model_name": "LayoutModel",
            "_view_count": null,
            "_view_module": "@jupyter-widgets/base",
            "_view_module_version": "1.2.0",
            "_view_name": "LayoutView",
            "align_content": null,
            "align_items": null,
            "align_self": null,
            "border": null,
            "bottom": null,
            "display": null,
            "flex": null,
            "flex_flow": null,
            "grid_area": null,
            "grid_auto_columns": null,
            "grid_auto_flow": null,
            "grid_auto_rows": null,
            "grid_column": null,
            "grid_gap": null,
            "grid_row": null,
            "grid_template_areas": null,
            "grid_template_columns": null,
            "grid_template_rows": null,
            "height": null,
            "justify_content": null,
            "justify_items": null,
            "left": null,
            "margin": null,
            "max_height": null,
            "max_width": null,
            "min_height": null,
            "min_width": null,
            "object_fit": null,
            "object_position": null,
            "order": null,
            "overflow": null,
            "overflow_x": null,
            "overflow_y": null,
            "padding": null,
            "right": null,
            "top": null,
            "visibility": null,
            "width": null
          }
        },
        "c4fa0335d92848febbae895653a0b715": {
          "model_module": "@jupyter-widgets/controls",
          "model_name": "ProgressStyleModel",
          "model_module_version": "1.5.0",
          "state": {
            "_model_module": "@jupyter-widgets/controls",
            "_model_module_version": "1.5.0",
            "_model_name": "ProgressStyleModel",
            "_view_count": null,
            "_view_module": "@jupyter-widgets/base",
            "_view_module_version": "1.2.0",
            "_view_name": "StyleView",
            "bar_color": null,
            "description_width": ""
          }
        },
        "d8e578dad5624977805aa8e774599e68": {
          "model_module": "@jupyter-widgets/controls",
          "model_name": "VBoxModel",
          "model_module_version": "1.5.0",
          "state": {
            "_dom_classes": [],
            "_model_module": "@jupyter-widgets/controls",
            "_model_module_version": "1.5.0",
            "_model_name": "VBoxModel",
            "_view_count": null,
            "_view_module": "@jupyter-widgets/controls",
            "_view_module_version": "1.5.0",
            "_view_name": "VBoxView",
            "box_style": "",
            "children": [
              "IPY_MODEL_05c4a153a97744b994211a4ee24aa73e",
              "IPY_MODEL_41e89ad3510948f5b0a2c15dd38499c2"
            ],
            "layout": "IPY_MODEL_4e1d540d13e946cf84687178fb92a7a7"
          }
        },
        "05c4a153a97744b994211a4ee24aa73e": {
          "model_module": "@jupyter-widgets/controls",
          "model_name": "LabelModel",
          "model_module_version": "1.5.0",
          "state": {
            "_dom_classes": [],
            "_model_module": "@jupyter-widgets/controls",
            "_model_module_version": "1.5.0",
            "_model_name": "LabelModel",
            "_view_count": null,
            "_view_module": "@jupyter-widgets/controls",
            "_view_module_version": "1.5.0",
            "_view_name": "LabelView",
            "description": "",
            "description_tooltip": null,
            "layout": "IPY_MODEL_af7c9405f95849f3bb5f2dc5b5a6931d",
            "placeholder": "​",
            "style": "IPY_MODEL_6d201f7c86594ed2899419b3adafcddf",
            "value": "0.001 MB of 0.001 MB uploaded (0.000 MB deduped)\r"
          }
        },
        "41e89ad3510948f5b0a2c15dd38499c2": {
          "model_module": "@jupyter-widgets/controls",
          "model_name": "FloatProgressModel",
          "model_module_version": "1.5.0",
          "state": {
            "_dom_classes": [],
            "_model_module": "@jupyter-widgets/controls",
            "_model_module_version": "1.5.0",
            "_model_name": "FloatProgressModel",
            "_view_count": null,
            "_view_module": "@jupyter-widgets/controls",
            "_view_module_version": "1.5.0",
            "_view_name": "ProgressView",
            "bar_style": "",
            "description": "",
            "description_tooltip": null,
            "layout": "IPY_MODEL_904209d2b6914a33820a5b6ee9ccd77b",
            "max": 1,
            "min": 0,
            "orientation": "horizontal",
            "style": "IPY_MODEL_42079243e70a4109ac321a69362e4947",
            "value": 1
          }
        },
        "4e1d540d13e946cf84687178fb92a7a7": {
          "model_module": "@jupyter-widgets/base",
          "model_name": "LayoutModel",
          "model_module_version": "1.2.0",
          "state": {
            "_model_module": "@jupyter-widgets/base",
            "_model_module_version": "1.2.0",
            "_model_name": "LayoutModel",
            "_view_count": null,
            "_view_module": "@jupyter-widgets/base",
            "_view_module_version": "1.2.0",
            "_view_name": "LayoutView",
            "align_content": null,
            "align_items": null,
            "align_self": null,
            "border": null,
            "bottom": null,
            "display": null,
            "flex": null,
            "flex_flow": null,
            "grid_area": null,
            "grid_auto_columns": null,
            "grid_auto_flow": null,
            "grid_auto_rows": null,
            "grid_column": null,
            "grid_gap": null,
            "grid_row": null,
            "grid_template_areas": null,
            "grid_template_columns": null,
            "grid_template_rows": null,
            "height": null,
            "justify_content": null,
            "justify_items": null,
            "left": null,
            "margin": null,
            "max_height": null,
            "max_width": null,
            "min_height": null,
            "min_width": null,
            "object_fit": null,
            "object_position": null,
            "order": null,
            "overflow": null,
            "overflow_x": null,
            "overflow_y": null,
            "padding": null,
            "right": null,
            "top": null,
            "visibility": null,
            "width": null
          }
        },
        "af7c9405f95849f3bb5f2dc5b5a6931d": {
          "model_module": "@jupyter-widgets/base",
          "model_name": "LayoutModel",
          "model_module_version": "1.2.0",
          "state": {
            "_model_module": "@jupyter-widgets/base",
            "_model_module_version": "1.2.0",
            "_model_name": "LayoutModel",
            "_view_count": null,
            "_view_module": "@jupyter-widgets/base",
            "_view_module_version": "1.2.0",
            "_view_name": "LayoutView",
            "align_content": null,
            "align_items": null,
            "align_self": null,
            "border": null,
            "bottom": null,
            "display": null,
            "flex": null,
            "flex_flow": null,
            "grid_area": null,
            "grid_auto_columns": null,
            "grid_auto_flow": null,
            "grid_auto_rows": null,
            "grid_column": null,
            "grid_gap": null,
            "grid_row": null,
            "grid_template_areas": null,
            "grid_template_columns": null,
            "grid_template_rows": null,
            "height": null,
            "justify_content": null,
            "justify_items": null,
            "left": null,
            "margin": null,
            "max_height": null,
            "max_width": null,
            "min_height": null,
            "min_width": null,
            "object_fit": null,
            "object_position": null,
            "order": null,
            "overflow": null,
            "overflow_x": null,
            "overflow_y": null,
            "padding": null,
            "right": null,
            "top": null,
            "visibility": null,
            "width": null
          }
        },
        "6d201f7c86594ed2899419b3adafcddf": {
          "model_module": "@jupyter-widgets/controls",
          "model_name": "DescriptionStyleModel",
          "model_module_version": "1.5.0",
          "state": {
            "_model_module": "@jupyter-widgets/controls",
            "_model_module_version": "1.5.0",
            "_model_name": "DescriptionStyleModel",
            "_view_count": null,
            "_view_module": "@jupyter-widgets/base",
            "_view_module_version": "1.2.0",
            "_view_name": "StyleView",
            "description_width": ""
          }
        },
        "904209d2b6914a33820a5b6ee9ccd77b": {
          "model_module": "@jupyter-widgets/base",
          "model_name": "LayoutModel",
          "model_module_version": "1.2.0",
          "state": {
            "_model_module": "@jupyter-widgets/base",
            "_model_module_version": "1.2.0",
            "_model_name": "LayoutModel",
            "_view_count": null,
            "_view_module": "@jupyter-widgets/base",
            "_view_module_version": "1.2.0",
            "_view_name": "LayoutView",
            "align_content": null,
            "align_items": null,
            "align_self": null,
            "border": null,
            "bottom": null,
            "display": null,
            "flex": null,
            "flex_flow": null,
            "grid_area": null,
            "grid_auto_columns": null,
            "grid_auto_flow": null,
            "grid_auto_rows": null,
            "grid_column": null,
            "grid_gap": null,
            "grid_row": null,
            "grid_template_areas": null,
            "grid_template_columns": null,
            "grid_template_rows": null,
            "height": null,
            "justify_content": null,
            "justify_items": null,
            "left": null,
            "margin": null,
            "max_height": null,
            "max_width": null,
            "min_height": null,
            "min_width": null,
            "object_fit": null,
            "object_position": null,
            "order": null,
            "overflow": null,
            "overflow_x": null,
            "overflow_y": null,
            "padding": null,
            "right": null,
            "top": null,
            "visibility": null,
            "width": null
          }
        },
        "42079243e70a4109ac321a69362e4947": {
          "model_module": "@jupyter-widgets/controls",
          "model_name": "ProgressStyleModel",
          "model_module_version": "1.5.0",
          "state": {
            "_model_module": "@jupyter-widgets/controls",
            "_model_module_version": "1.5.0",
            "_model_name": "ProgressStyleModel",
            "_view_count": null,
            "_view_module": "@jupyter-widgets/base",
            "_view_module_version": "1.2.0",
            "_view_name": "StyleView",
            "bar_color": null,
            "description_width": ""
          }
        },
        "66e1d3f538b34f4b8794f3e267abd82d": {
          "model_module": "@jupyter-widgets/controls",
          "model_name": "VBoxModel",
          "model_module_version": "1.5.0",
          "state": {
            "_dom_classes": [],
            "_model_module": "@jupyter-widgets/controls",
            "_model_module_version": "1.5.0",
            "_model_name": "VBoxModel",
            "_view_count": null,
            "_view_module": "@jupyter-widgets/controls",
            "_view_module_version": "1.5.0",
            "_view_name": "VBoxView",
            "box_style": "",
            "children": [
              "IPY_MODEL_fcec99b596b646a3894007ad9c17ac4e",
              "IPY_MODEL_64726716e2f34327b86f31d25606033e"
            ],
            "layout": "IPY_MODEL_ae5a7db2477b46b4ba987c92b7684e9f"
          }
        },
        "fcec99b596b646a3894007ad9c17ac4e": {
          "model_module": "@jupyter-widgets/controls",
          "model_name": "LabelModel",
          "model_module_version": "1.5.0",
          "state": {
            "_dom_classes": [],
            "_model_module": "@jupyter-widgets/controls",
            "_model_module_version": "1.5.0",
            "_model_name": "LabelModel",
            "_view_count": null,
            "_view_module": "@jupyter-widgets/controls",
            "_view_module_version": "1.5.0",
            "_view_name": "LabelView",
            "description": "",
            "description_tooltip": null,
            "layout": "IPY_MODEL_4dc13ddcd8bd4833bd9e32a32024d01c",
            "placeholder": "​",
            "style": "IPY_MODEL_b1d4037b9787412f9fab63603450b349",
            "value": "2.316 MB of 2.316 MB uploaded (0.000 MB deduped)\r"
          }
        },
        "64726716e2f34327b86f31d25606033e": {
          "model_module": "@jupyter-widgets/controls",
          "model_name": "FloatProgressModel",
          "model_module_version": "1.5.0",
          "state": {
            "_dom_classes": [],
            "_model_module": "@jupyter-widgets/controls",
            "_model_module_version": "1.5.0",
            "_model_name": "FloatProgressModel",
            "_view_count": null,
            "_view_module": "@jupyter-widgets/controls",
            "_view_module_version": "1.5.0",
            "_view_name": "ProgressView",
            "bar_style": "",
            "description": "",
            "description_tooltip": null,
            "layout": "IPY_MODEL_c5084f36eaae4a3785ee447d81d73c30",
            "max": 1,
            "min": 0,
            "orientation": "horizontal",
            "style": "IPY_MODEL_16424d5eece64120a481d9c95802492c",
            "value": 1
          }
        },
        "ae5a7db2477b46b4ba987c92b7684e9f": {
          "model_module": "@jupyter-widgets/base",
          "model_name": "LayoutModel",
          "model_module_version": "1.2.0",
          "state": {
            "_model_module": "@jupyter-widgets/base",
            "_model_module_version": "1.2.0",
            "_model_name": "LayoutModel",
            "_view_count": null,
            "_view_module": "@jupyter-widgets/base",
            "_view_module_version": "1.2.0",
            "_view_name": "LayoutView",
            "align_content": null,
            "align_items": null,
            "align_self": null,
            "border": null,
            "bottom": null,
            "display": null,
            "flex": null,
            "flex_flow": null,
            "grid_area": null,
            "grid_auto_columns": null,
            "grid_auto_flow": null,
            "grid_auto_rows": null,
            "grid_column": null,
            "grid_gap": null,
            "grid_row": null,
            "grid_template_areas": null,
            "grid_template_columns": null,
            "grid_template_rows": null,
            "height": null,
            "justify_content": null,
            "justify_items": null,
            "left": null,
            "margin": null,
            "max_height": null,
            "max_width": null,
            "min_height": null,
            "min_width": null,
            "object_fit": null,
            "object_position": null,
            "order": null,
            "overflow": null,
            "overflow_x": null,
            "overflow_y": null,
            "padding": null,
            "right": null,
            "top": null,
            "visibility": null,
            "width": null
          }
        },
        "4dc13ddcd8bd4833bd9e32a32024d01c": {
          "model_module": "@jupyter-widgets/base",
          "model_name": "LayoutModel",
          "model_module_version": "1.2.0",
          "state": {
            "_model_module": "@jupyter-widgets/base",
            "_model_module_version": "1.2.0",
            "_model_name": "LayoutModel",
            "_view_count": null,
            "_view_module": "@jupyter-widgets/base",
            "_view_module_version": "1.2.0",
            "_view_name": "LayoutView",
            "align_content": null,
            "align_items": null,
            "align_self": null,
            "border": null,
            "bottom": null,
            "display": null,
            "flex": null,
            "flex_flow": null,
            "grid_area": null,
            "grid_auto_columns": null,
            "grid_auto_flow": null,
            "grid_auto_rows": null,
            "grid_column": null,
            "grid_gap": null,
            "grid_row": null,
            "grid_template_areas": null,
            "grid_template_columns": null,
            "grid_template_rows": null,
            "height": null,
            "justify_content": null,
            "justify_items": null,
            "left": null,
            "margin": null,
            "max_height": null,
            "max_width": null,
            "min_height": null,
            "min_width": null,
            "object_fit": null,
            "object_position": null,
            "order": null,
            "overflow": null,
            "overflow_x": null,
            "overflow_y": null,
            "padding": null,
            "right": null,
            "top": null,
            "visibility": null,
            "width": null
          }
        },
        "b1d4037b9787412f9fab63603450b349": {
          "model_module": "@jupyter-widgets/controls",
          "model_name": "DescriptionStyleModel",
          "model_module_version": "1.5.0",
          "state": {
            "_model_module": "@jupyter-widgets/controls",
            "_model_module_version": "1.5.0",
            "_model_name": "DescriptionStyleModel",
            "_view_count": null,
            "_view_module": "@jupyter-widgets/base",
            "_view_module_version": "1.2.0",
            "_view_name": "StyleView",
            "description_width": ""
          }
        },
        "c5084f36eaae4a3785ee447d81d73c30": {
          "model_module": "@jupyter-widgets/base",
          "model_name": "LayoutModel",
          "model_module_version": "1.2.0",
          "state": {
            "_model_module": "@jupyter-widgets/base",
            "_model_module_version": "1.2.0",
            "_model_name": "LayoutModel",
            "_view_count": null,
            "_view_module": "@jupyter-widgets/base",
            "_view_module_version": "1.2.0",
            "_view_name": "LayoutView",
            "align_content": null,
            "align_items": null,
            "align_self": null,
            "border": null,
            "bottom": null,
            "display": null,
            "flex": null,
            "flex_flow": null,
            "grid_area": null,
            "grid_auto_columns": null,
            "grid_auto_flow": null,
            "grid_auto_rows": null,
            "grid_column": null,
            "grid_gap": null,
            "grid_row": null,
            "grid_template_areas": null,
            "grid_template_columns": null,
            "grid_template_rows": null,
            "height": null,
            "justify_content": null,
            "justify_items": null,
            "left": null,
            "margin": null,
            "max_height": null,
            "max_width": null,
            "min_height": null,
            "min_width": null,
            "object_fit": null,
            "object_position": null,
            "order": null,
            "overflow": null,
            "overflow_x": null,
            "overflow_y": null,
            "padding": null,
            "right": null,
            "top": null,
            "visibility": null,
            "width": null
          }
        },
        "16424d5eece64120a481d9c95802492c": {
          "model_module": "@jupyter-widgets/controls",
          "model_name": "ProgressStyleModel",
          "model_module_version": "1.5.0",
          "state": {
            "_model_module": "@jupyter-widgets/controls",
            "_model_module_version": "1.5.0",
            "_model_name": "ProgressStyleModel",
            "_view_count": null,
            "_view_module": "@jupyter-widgets/base",
            "_view_module_version": "1.2.0",
            "_view_name": "StyleView",
            "bar_color": null,
            "description_width": ""
          }
        }
      }
    }
  },
  "nbformat": 4,
  "nbformat_minor": 0
}